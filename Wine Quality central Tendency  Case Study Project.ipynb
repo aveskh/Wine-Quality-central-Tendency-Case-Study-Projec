{
 "cells": [
  {
   "cell_type": "markdown",
   "metadata": {
    "id": "YnsbVukC1y3p"
   },
   "source": [
    "In this exercise, we will perform the following tasks:\n",
    "\n",
    "1 - Load and study the data\n",
    "\n",
    "2 - View the distributions of the various features in the data set and calculate their central tendencies\n",
    "\n",
    "3 - Create a new Pandas Series that contains the details of the representative factor for quality"
   ]
  },
  {
   "cell_type": "markdown",
   "metadata": {
    "id": "WzLWcUMM1s_0"
   },
   "source": [
    "# **Task 1** - Load and study the data\n",
    "\n",
    "Load the data and study its features such as:\n",
    "\n",
    "* fixed acidity\n",
    "\n",
    "* volatile acidity\n",
    "\n",
    "* citric acid etc."
   ]
  },
  {
   "cell_type": "code",
   "execution_count": 1,
   "metadata": {
    "executionInfo": {
     "elapsed": 436,
     "status": "ok",
     "timestamp": 1679398194687,
     "user": {
      "displayName": "AVES KHAN",
      "userId": "05377676806940715426"
     },
     "user_tz": -330
    },
    "id": "FasRtLlJlJVO"
   },
   "outputs": [],
   "source": [
    "import numpy as np\n",
    "import pandas as pd\n",
    "import seaborn as sns\n",
    "import matplotlib.pyplot as plt"
   ]
  },
  {
   "cell_type": "code",
   "execution_count": 2,
   "metadata": {
    "executionInfo": {
     "elapsed": 24,
     "status": "ok",
     "timestamp": 1679398195490,
     "user": {
      "displayName": "AVES KHAN",
      "userId": "05377676806940715426"
     },
     "user_tz": -330
    },
    "id": "vcLyi85hl24r"
   },
   "outputs": [],
   "source": [
    "data = pd.read_csv('wine_quality.csv')"
   ]
  },
  {
   "cell_type": "code",
   "execution_count": 3,
   "metadata": {
    "colab": {
     "base_uri": "https://localhost:8080/",
     "height": 285
    },
    "executionInfo": {
     "elapsed": 546,
     "status": "ok",
     "timestamp": 1679401642069,
     "user": {
      "displayName": "AVES KHAN",
      "userId": "05377676806940715426"
     },
     "user_tz": -330
    },
    "id": "CRtyVMKnl21T",
    "outputId": "86b40e8c-b071-4f3a-f094-bb9cc23142d1"
   },
   "outputs": [
    {
     "data": {
      "text/html": [
       "<div>\n",
       "<style scoped>\n",
       "    .dataframe tbody tr th:only-of-type {\n",
       "        vertical-align: middle;\n",
       "    }\n",
       "\n",
       "    .dataframe tbody tr th {\n",
       "        vertical-align: top;\n",
       "    }\n",
       "\n",
       "    .dataframe thead th {\n",
       "        text-align: right;\n",
       "    }\n",
       "</style>\n",
       "<table border=\"1\" class=\"dataframe\">\n",
       "  <thead>\n",
       "    <tr style=\"text-align: right;\">\n",
       "      <th></th>\n",
       "      <th>fixed acidity</th>\n",
       "      <th>volatile acidity</th>\n",
       "      <th>citric acid</th>\n",
       "      <th>residual sugar</th>\n",
       "      <th>chlorides</th>\n",
       "      <th>free sulfur dioxide</th>\n",
       "      <th>total sulfur dioxide</th>\n",
       "      <th>density</th>\n",
       "      <th>pH</th>\n",
       "      <th>sulphates</th>\n",
       "      <th>alcohol</th>\n",
       "      <th>quality</th>\n",
       "    </tr>\n",
       "  </thead>\n",
       "  <tbody>\n",
       "    <tr>\n",
       "      <th>0</th>\n",
       "      <td>7.0</td>\n",
       "      <td>0.27</td>\n",
       "      <td>0.36</td>\n",
       "      <td>20.7</td>\n",
       "      <td>0.045</td>\n",
       "      <td>45.0</td>\n",
       "      <td>170.0</td>\n",
       "      <td>1.0010</td>\n",
       "      <td>3.00</td>\n",
       "      <td>0.45</td>\n",
       "      <td>8.8</td>\n",
       "      <td>6</td>\n",
       "    </tr>\n",
       "    <tr>\n",
       "      <th>1</th>\n",
       "      <td>6.3</td>\n",
       "      <td>0.30</td>\n",
       "      <td>0.34</td>\n",
       "      <td>1.6</td>\n",
       "      <td>0.049</td>\n",
       "      <td>14.0</td>\n",
       "      <td>132.0</td>\n",
       "      <td>0.9940</td>\n",
       "      <td>3.30</td>\n",
       "      <td>0.49</td>\n",
       "      <td>9.5</td>\n",
       "      <td>6</td>\n",
       "    </tr>\n",
       "    <tr>\n",
       "      <th>2</th>\n",
       "      <td>8.1</td>\n",
       "      <td>0.28</td>\n",
       "      <td>0.40</td>\n",
       "      <td>6.9</td>\n",
       "      <td>0.050</td>\n",
       "      <td>30.0</td>\n",
       "      <td>97.0</td>\n",
       "      <td>0.9951</td>\n",
       "      <td>3.26</td>\n",
       "      <td>0.44</td>\n",
       "      <td>10.1</td>\n",
       "      <td>6</td>\n",
       "    </tr>\n",
       "    <tr>\n",
       "      <th>3</th>\n",
       "      <td>7.2</td>\n",
       "      <td>0.23</td>\n",
       "      <td>0.32</td>\n",
       "      <td>8.5</td>\n",
       "      <td>0.058</td>\n",
       "      <td>47.0</td>\n",
       "      <td>186.0</td>\n",
       "      <td>0.9956</td>\n",
       "      <td>3.19</td>\n",
       "      <td>0.40</td>\n",
       "      <td>9.9</td>\n",
       "      <td>6</td>\n",
       "    </tr>\n",
       "    <tr>\n",
       "      <th>4</th>\n",
       "      <td>7.2</td>\n",
       "      <td>0.23</td>\n",
       "      <td>0.32</td>\n",
       "      <td>8.5</td>\n",
       "      <td>0.058</td>\n",
       "      <td>47.0</td>\n",
       "      <td>186.0</td>\n",
       "      <td>0.9956</td>\n",
       "      <td>3.19</td>\n",
       "      <td>0.40</td>\n",
       "      <td>9.9</td>\n",
       "      <td>6</td>\n",
       "    </tr>\n",
       "  </tbody>\n",
       "</table>\n",
       "</div>"
      ],
      "text/plain": [
       "   fixed acidity  volatile acidity  citric acid  residual sugar  chlorides  \\\n",
       "0            7.0              0.27         0.36            20.7      0.045   \n",
       "1            6.3              0.30         0.34             1.6      0.049   \n",
       "2            8.1              0.28         0.40             6.9      0.050   \n",
       "3            7.2              0.23         0.32             8.5      0.058   \n",
       "4            7.2              0.23         0.32             8.5      0.058   \n",
       "\n",
       "   free sulfur dioxide  total sulfur dioxide  density    pH  sulphates  \\\n",
       "0                 45.0                 170.0   1.0010  3.00       0.45   \n",
       "1                 14.0                 132.0   0.9940  3.30       0.49   \n",
       "2                 30.0                  97.0   0.9951  3.26       0.44   \n",
       "3                 47.0                 186.0   0.9956  3.19       0.40   \n",
       "4                 47.0                 186.0   0.9956  3.19       0.40   \n",
       "\n",
       "   alcohol  quality  \n",
       "0      8.8        6  \n",
       "1      9.5        6  \n",
       "2     10.1        6  \n",
       "3      9.9        6  \n",
       "4      9.9        6  "
      ]
     },
     "execution_count": 3,
     "metadata": {},
     "output_type": "execute_result"
    }
   ],
   "source": [
    "data.head()"
   ]
  },
  {
   "cell_type": "code",
   "execution_count": 4,
   "metadata": {
    "colab": {
     "base_uri": "https://localhost:8080/"
    },
    "executionInfo": {
     "elapsed": 19,
     "status": "ok",
     "timestamp": 1679398195493,
     "user": {
      "displayName": "AVES KHAN",
      "userId": "05377676806940715426"
     },
     "user_tz": -330
    },
    "id": "LNJPU810l2wN",
    "outputId": "ea4e93cd-3ba3-4d0b-a75c-98c642ed553e"
   },
   "outputs": [
    {
     "data": {
      "text/plain": [
       "(4898, 12)"
      ]
     },
     "execution_count": 4,
     "metadata": {},
     "output_type": "execute_result"
    }
   ],
   "source": [
    "data.shape"
   ]
  },
  {
   "cell_type": "code",
   "execution_count": 5,
   "metadata": {
    "colab": {
     "base_uri": "https://localhost:8080/"
    },
    "executionInfo": {
     "elapsed": 2221,
     "status": "ok",
     "timestamp": 1679398197700,
     "user": {
      "displayName": "AVES KHAN",
      "userId": "05377676806940715426"
     },
     "user_tz": -330
    },
    "id": "YEpnbKVJl2rG",
    "outputId": "7cb0dda3-6df2-45f2-f265-6f5548fe5b4b"
   },
   "outputs": [
    {
     "data": {
      "text/plain": [
       "RangeIndex(start=0, stop=4898, step=1)"
      ]
     },
     "execution_count": 5,
     "metadata": {},
     "output_type": "execute_result"
    }
   ],
   "source": [
    "data.index"
   ]
  },
  {
   "cell_type": "code",
   "execution_count": 6,
   "metadata": {
    "colab": {
     "base_uri": "https://localhost:8080/"
    },
    "executionInfo": {
     "elapsed": 69,
     "status": "ok",
     "timestamp": 1679398197704,
     "user": {
      "displayName": "AVES KHAN",
      "userId": "05377676806940715426"
     },
     "user_tz": -330
    },
    "id": "qg-lO4j5l2eg",
    "outputId": "84845b1a-c679-41da-b49b-9ee3a7841622"
   },
   "outputs": [
    {
     "data": {
      "text/plain": [
       "Index(['fixed acidity', 'volatile acidity', 'citric acid', 'residual sugar',\n",
       "       'chlorides', 'free sulfur dioxide', 'total sulfur dioxide', 'density',\n",
       "       'pH', 'sulphates', 'alcohol', 'quality'],\n",
       "      dtype='object')"
      ]
     },
     "execution_count": 6,
     "metadata": {},
     "output_type": "execute_result"
    }
   ],
   "source": [
    "data.columns"
   ]
  },
  {
   "cell_type": "code",
   "execution_count": 7,
   "metadata": {
    "colab": {
     "base_uri": "https://localhost:8080/"
    },
    "executionInfo": {
     "elapsed": 65,
     "status": "ok",
     "timestamp": 1679398197706,
     "user": {
      "displayName": "AVES KHAN",
      "userId": "05377676806940715426"
     },
     "user_tz": -330
    },
    "id": "5Kp1_Dpul2UK",
    "outputId": "5ae571c3-84a5-4bcb-8067-562f83b4975b"
   },
   "outputs": [
    {
     "name": "stdout",
     "output_type": "stream",
     "text": [
      "<class 'pandas.core.frame.DataFrame'>\n",
      "RangeIndex: 4898 entries, 0 to 4897\n",
      "Data columns (total 12 columns):\n",
      " #   Column                Non-Null Count  Dtype  \n",
      "---  ------                --------------  -----  \n",
      " 0   fixed acidity         4898 non-null   float64\n",
      " 1   volatile acidity      4898 non-null   float64\n",
      " 2   citric acid           4898 non-null   float64\n",
      " 3   residual sugar        4898 non-null   float64\n",
      " 4   chlorides             4898 non-null   float64\n",
      " 5   free sulfur dioxide   4898 non-null   float64\n",
      " 6   total sulfur dioxide  4898 non-null   float64\n",
      " 7   density               4898 non-null   float64\n",
      " 8   pH                    4898 non-null   float64\n",
      " 9   sulphates             4898 non-null   float64\n",
      " 10  alcohol               4898 non-null   float64\n",
      " 11  quality               4898 non-null   int64  \n",
      "dtypes: float64(11), int64(1)\n",
      "memory usage: 459.3 KB\n"
     ]
    }
   ],
   "source": [
    "data.info()\n"
   ]
  },
  {
   "cell_type": "code",
   "execution_count": 8,
   "metadata": {
    "colab": {
     "base_uri": "https://localhost:8080/",
     "height": 399
    },
    "executionInfo": {
     "elapsed": 63,
     "status": "ok",
     "timestamp": 1679398197709,
     "user": {
      "displayName": "AVES KHAN",
      "userId": "05377676806940715426"
     },
     "user_tz": -330
    },
    "id": "d3DcG6yWl2PA",
    "outputId": "ab213645-a322-4328-a053-12bc6ce35c8a"
   },
   "outputs": [
    {
     "data": {
      "text/html": [
       "<div>\n",
       "<style scoped>\n",
       "    .dataframe tbody tr th:only-of-type {\n",
       "        vertical-align: middle;\n",
       "    }\n",
       "\n",
       "    .dataframe tbody tr th {\n",
       "        vertical-align: top;\n",
       "    }\n",
       "\n",
       "    .dataframe thead th {\n",
       "        text-align: right;\n",
       "    }\n",
       "</style>\n",
       "<table border=\"1\" class=\"dataframe\">\n",
       "  <thead>\n",
       "    <tr style=\"text-align: right;\">\n",
       "      <th></th>\n",
       "      <th>fixed acidity</th>\n",
       "      <th>volatile acidity</th>\n",
       "      <th>citric acid</th>\n",
       "      <th>residual sugar</th>\n",
       "      <th>chlorides</th>\n",
       "      <th>free sulfur dioxide</th>\n",
       "      <th>total sulfur dioxide</th>\n",
       "      <th>density</th>\n",
       "      <th>pH</th>\n",
       "      <th>sulphates</th>\n",
       "      <th>alcohol</th>\n",
       "      <th>quality</th>\n",
       "    </tr>\n",
       "  </thead>\n",
       "  <tbody>\n",
       "    <tr>\n",
       "      <th>count</th>\n",
       "      <td>4898.000000</td>\n",
       "      <td>4898.000000</td>\n",
       "      <td>4898.000000</td>\n",
       "      <td>4898.000000</td>\n",
       "      <td>4898.000000</td>\n",
       "      <td>4898.000000</td>\n",
       "      <td>4898.000000</td>\n",
       "      <td>4898.000000</td>\n",
       "      <td>4898.000000</td>\n",
       "      <td>4898.000000</td>\n",
       "      <td>4898.000000</td>\n",
       "      <td>4898.000000</td>\n",
       "    </tr>\n",
       "    <tr>\n",
       "      <th>mean</th>\n",
       "      <td>6.854788</td>\n",
       "      <td>0.278241</td>\n",
       "      <td>0.334192</td>\n",
       "      <td>6.391415</td>\n",
       "      <td>0.045772</td>\n",
       "      <td>35.308085</td>\n",
       "      <td>138.360657</td>\n",
       "      <td>0.994027</td>\n",
       "      <td>3.188267</td>\n",
       "      <td>0.489847</td>\n",
       "      <td>10.514267</td>\n",
       "      <td>5.877909</td>\n",
       "    </tr>\n",
       "    <tr>\n",
       "      <th>std</th>\n",
       "      <td>0.843868</td>\n",
       "      <td>0.100795</td>\n",
       "      <td>0.121020</td>\n",
       "      <td>5.072058</td>\n",
       "      <td>0.021848</td>\n",
       "      <td>17.007137</td>\n",
       "      <td>42.498065</td>\n",
       "      <td>0.002991</td>\n",
       "      <td>0.151001</td>\n",
       "      <td>0.114126</td>\n",
       "      <td>1.230621</td>\n",
       "      <td>0.885639</td>\n",
       "    </tr>\n",
       "    <tr>\n",
       "      <th>min</th>\n",
       "      <td>3.800000</td>\n",
       "      <td>0.080000</td>\n",
       "      <td>0.000000</td>\n",
       "      <td>0.600000</td>\n",
       "      <td>0.009000</td>\n",
       "      <td>2.000000</td>\n",
       "      <td>9.000000</td>\n",
       "      <td>0.987110</td>\n",
       "      <td>2.720000</td>\n",
       "      <td>0.220000</td>\n",
       "      <td>8.000000</td>\n",
       "      <td>3.000000</td>\n",
       "    </tr>\n",
       "    <tr>\n",
       "      <th>25%</th>\n",
       "      <td>6.300000</td>\n",
       "      <td>0.210000</td>\n",
       "      <td>0.270000</td>\n",
       "      <td>1.700000</td>\n",
       "      <td>0.036000</td>\n",
       "      <td>23.000000</td>\n",
       "      <td>108.000000</td>\n",
       "      <td>0.991723</td>\n",
       "      <td>3.090000</td>\n",
       "      <td>0.410000</td>\n",
       "      <td>9.500000</td>\n",
       "      <td>5.000000</td>\n",
       "    </tr>\n",
       "    <tr>\n",
       "      <th>50%</th>\n",
       "      <td>6.800000</td>\n",
       "      <td>0.260000</td>\n",
       "      <td>0.320000</td>\n",
       "      <td>5.200000</td>\n",
       "      <td>0.043000</td>\n",
       "      <td>34.000000</td>\n",
       "      <td>134.000000</td>\n",
       "      <td>0.993740</td>\n",
       "      <td>3.180000</td>\n",
       "      <td>0.470000</td>\n",
       "      <td>10.400000</td>\n",
       "      <td>6.000000</td>\n",
       "    </tr>\n",
       "    <tr>\n",
       "      <th>75%</th>\n",
       "      <td>7.300000</td>\n",
       "      <td>0.320000</td>\n",
       "      <td>0.390000</td>\n",
       "      <td>9.900000</td>\n",
       "      <td>0.050000</td>\n",
       "      <td>46.000000</td>\n",
       "      <td>167.000000</td>\n",
       "      <td>0.996100</td>\n",
       "      <td>3.280000</td>\n",
       "      <td>0.550000</td>\n",
       "      <td>11.400000</td>\n",
       "      <td>6.000000</td>\n",
       "    </tr>\n",
       "    <tr>\n",
       "      <th>max</th>\n",
       "      <td>14.200000</td>\n",
       "      <td>1.100000</td>\n",
       "      <td>1.660000</td>\n",
       "      <td>65.800000</td>\n",
       "      <td>0.346000</td>\n",
       "      <td>289.000000</td>\n",
       "      <td>440.000000</td>\n",
       "      <td>1.038980</td>\n",
       "      <td>3.820000</td>\n",
       "      <td>1.080000</td>\n",
       "      <td>14.200000</td>\n",
       "      <td>9.000000</td>\n",
       "    </tr>\n",
       "  </tbody>\n",
       "</table>\n",
       "</div>"
      ],
      "text/plain": [
       "       fixed acidity  volatile acidity  citric acid  residual sugar  \\\n",
       "count    4898.000000       4898.000000  4898.000000     4898.000000   \n",
       "mean        6.854788          0.278241     0.334192        6.391415   \n",
       "std         0.843868          0.100795     0.121020        5.072058   \n",
       "min         3.800000          0.080000     0.000000        0.600000   \n",
       "25%         6.300000          0.210000     0.270000        1.700000   \n",
       "50%         6.800000          0.260000     0.320000        5.200000   \n",
       "75%         7.300000          0.320000     0.390000        9.900000   \n",
       "max        14.200000          1.100000     1.660000       65.800000   \n",
       "\n",
       "         chlorides  free sulfur dioxide  total sulfur dioxide      density  \\\n",
       "count  4898.000000          4898.000000           4898.000000  4898.000000   \n",
       "mean      0.045772            35.308085            138.360657     0.994027   \n",
       "std       0.021848            17.007137             42.498065     0.002991   \n",
       "min       0.009000             2.000000              9.000000     0.987110   \n",
       "25%       0.036000            23.000000            108.000000     0.991723   \n",
       "50%       0.043000            34.000000            134.000000     0.993740   \n",
       "75%       0.050000            46.000000            167.000000     0.996100   \n",
       "max       0.346000           289.000000            440.000000     1.038980   \n",
       "\n",
       "                pH    sulphates      alcohol      quality  \n",
       "count  4898.000000  4898.000000  4898.000000  4898.000000  \n",
       "mean      3.188267     0.489847    10.514267     5.877909  \n",
       "std       0.151001     0.114126     1.230621     0.885639  \n",
       "min       2.720000     0.220000     8.000000     3.000000  \n",
       "25%       3.090000     0.410000     9.500000     5.000000  \n",
       "50%       3.180000     0.470000    10.400000     6.000000  \n",
       "75%       3.280000     0.550000    11.400000     6.000000  \n",
       "max       3.820000     1.080000    14.200000     9.000000  "
      ]
     },
     "execution_count": 8,
     "metadata": {},
     "output_type": "execute_result"
    }
   ],
   "source": [
    "data.describe()"
   ]
  },
  {
   "cell_type": "code",
   "execution_count": null,
   "metadata": {
    "executionInfo": {
     "elapsed": 63,
     "status": "ok",
     "timestamp": 1679398197711,
     "user": {
      "displayName": "AVES KHAN",
      "userId": "05377676806940715426"
     },
     "user_tz": -330
    },
    "id": "Jvs-JMjhl2MS"
   },
   "outputs": [],
   "source": []
  },
  {
   "cell_type": "markdown",
   "metadata": {
    "id": "7DyUhlO55bzG"
   },
   "source": [
    "# **Task 2** - View the distributions of the various features in the data set and calculate their central tendencies\n",
    "\n",
    "We will now look at the distributions of the various features in the data set\n",
    "\n",
    "We will also calculate appropriate measures of central tendency for these features"
   ]
  },
  {
   "cell_type": "code",
   "execution_count": 9,
   "metadata": {
    "colab": {
     "base_uri": "https://localhost:8080/",
     "height": 404
    },
    "executionInfo": {
     "elapsed": 63,
     "status": "ok",
     "timestamp": 1679398197712,
     "user": {
      "displayName": "AVES KHAN",
      "userId": "05377676806940715426"
     },
     "user_tz": -330
    },
    "id": "OmDqWUg-l2Jx",
    "outputId": "824337ca-b658-4164-966b-8a33cb917497"
   },
   "outputs": [
    {
     "data": {
      "image/png": "[encoded data removed]",
      "text/plain": [
       "<Figure size 1100x600 with 1 Axes>"
      ]
     },
     "metadata": {},
     "output_type": "display_data"
    }
   ],
   "source": [
    "# Histogram of the \"Fixed acidity\" feature\n",
    "\n",
    "plt.figure(figsize = (11,6))\n",
    "\n",
    "sns.histplot(data = data, x = 'fixed acidity', color = 'y', bins = 5)\n",
    "\n",
    "plt.title('Histogram of Fixed Acidity')\n",
    "plt.xlabel('Fixed Acidity')\n",
    "plt.ylabel('Counts')\n",
    "plt.show()"
   ]
  },
  {
   "cell_type": "markdown",
   "metadata": {
    "id": "JD35CE7S-TEz"
   },
   "source": [
    "We observe that the histogram is normally distributed.\n",
    "\n",
    "The maximum count of values for fixed acidity lies in between 6 to 8.\n",
    "\n",
    "Now let's see the measures of central tendency in working!\n",
    "\n",
    "Mean, Median and Mode"
   ]
  },
  {
   "cell_type": "code",
   "execution_count": 10,
   "metadata": {
    "colab": {
     "base_uri": "https://localhost:8080/"
    },
    "executionInfo": {
     "elapsed": 62,
     "status": "ok",
     "timestamp": 1679398197714,
     "user": {
      "displayName": "AVES KHAN",
      "userId": "05377676806940715426"
     },
     "user_tz": -330
    },
    "id": "DA9a3yJyl2Gp",
    "outputId": "567122a6-7ec4-47e1-c9b6-a1ef26b0569f"
   },
   "outputs": [
    {
     "data": {
      "text/plain": [
       "6.85"
      ]
     },
     "execution_count": 10,
     "metadata": {},
     "output_type": "execute_result"
    }
   ],
   "source": [
    "# calculate mean\n",
    "\n",
    "data['fixed acidity'].mean()\n",
    "\n",
    "round(data['fixed acidity'].mean(),2)"
   ]
  },
  {
   "cell_type": "code",
   "execution_count": 11,
   "metadata": {
    "colab": {
     "base_uri": "https://localhost:8080/"
    },
    "executionInfo": {
     "elapsed": 62,
     "status": "ok",
     "timestamp": 1679398197719,
     "user": {
      "displayName": "AVES KHAN",
      "userId": "05377676806940715426"
     },
     "user_tz": -330
    },
    "id": "Xk6t6goCl2D0",
    "outputId": "26a0ecbc-c1f0-4b91-f915-b3da0bafa41d"
   },
   "outputs": [
    {
     "data": {
      "text/plain": [
       "6.8"
      ]
     },
     "execution_count": 11,
     "metadata": {},
     "output_type": "execute_result"
    }
   ],
   "source": [
    "# calculate median\n",
    "data['fixed acidity'].median()"
   ]
  },
  {
   "cell_type": "code",
   "execution_count": 12,
   "metadata": {
    "colab": {
     "base_uri": "https://localhost:8080/",
     "height": 404
    },
    "executionInfo": {
     "elapsed": 59,
     "status": "ok",
     "timestamp": 1679398197721,
     "user": {
      "displayName": "AVES KHAN",
      "userId": "05377676806940715426"
     },
     "user_tz": -330
    },
    "id": "GxEQ4qBbl15M",
    "outputId": "5934532f-04cd-41f4-c44d-f0c7c30a53a4"
   },
   "outputs": [
    {
     "data": {
      "image/png": "[encoded data removed]",
      "text/plain": [
       "<Figure size 1100x600 with 1 Axes>"
      ]
     },
     "metadata": {},
     "output_type": "display_data"
    }
   ],
   "source": [
    "# Histogram of 'fixed acidity' and showing the mean and the median\n",
    "\n",
    "plt.figure(figsize = (11,6))\n",
    "\n",
    "sns.histplot(data = data, x = 'fixed acidity', color = 'y', bins = 5)\n",
    "\n",
    "plt.title('Histogram of Fixed Acidity')\n",
    "plt.xlabel('Fixed Acidity')\n",
    "plt.ylabel('Counts')\n",
    "\n",
    "plt.vlines(data['fixed acidity'].mean(), ymin = 0, ymax = 4000, colors='blue', label='Mean')\n",
    "plt.vlines(data['fixed acidity'].median(), ymin = 0, ymax = 4000, colors='red', label='Median')\n",
    "\n",
    "plt.show()"
   ]
  },
  {
   "cell_type": "markdown",
   "metadata": {
    "id": "b0edfJfLuO8z"
   },
   "source": [
    "The mean and the median are close to each other and the difference between them is very small.\n",
    "\n",
    "We can safely choose the mean as the measure of the central tendency here."
   ]
  },
  {
   "cell_type": "code",
   "execution_count": null,
   "metadata": {
    "executionInfo": {
     "elapsed": 59,
     "status": "ok",
     "timestamp": 1679398197723,
     "user": {
      "displayName": "AVES KHAN",
      "userId": "05377676806940715426"
     },
     "user_tz": -330
    },
    "id": "8xkj8e1Dl12a"
   },
   "outputs": [],
   "source": [
    "\n"
   ]
  },
  {
   "cell_type": "code",
   "execution_count": 13,
   "metadata": {
    "colab": {
     "base_uri": "https://localhost:8080/",
     "height": 404
    },
    "executionInfo": {
     "elapsed": 1629,
     "status": "ok",
     "timestamp": 1679398199295,
     "user": {
      "displayName": "AVES KHAN",
      "userId": "05377676806940715426"
     },
     "user_tz": -330
    },
    "id": "QPU9VKqjl10G",
    "outputId": "ff9128a4-70d8-46ff-e20e-e5d2ad2ce3de"
   },
   "outputs": [
    {
     "data": {
      "image/png": "[encoded data removed]",
      "text/plain": [
       "<Figure size 1100x600 with 1 Axes>"
      ]
     },
     "metadata": {},
     "output_type": "display_data"
    }
   ],
   "source": [
    "# Histogram of 'Volatile Acidity' feature\n",
    "plt.figure(figsize = (11,6))\n",
    "sns.histplot(data = data, x = 'volatile acidity', color = 'green', bins = 5)\n",
    "\n",
    "plt.title('Histogram of Volatile Acidity')\n",
    "plt.xlabel('Volatile Acidity')\n",
    "plt.ylabel('Counts')\n",
    "\n",
    "plt.show()"
   ]
  },
  {
   "cell_type": "markdown",
   "metadata": {
    "id": "DslFl1eqessY"
   },
   "source": [
    "We observe that this histogram is not well distributed, it is skewed a little towards the right"
   ]
  },
  {
   "cell_type": "code",
   "execution_count": 14,
   "metadata": {
    "colab": {
     "base_uri": "https://localhost:8080/",
     "height": 595
    },
    "executionInfo": {
     "elapsed": 78,
     "status": "ok",
     "timestamp": 1679398199296,
     "user": {
      "displayName": "AVES KHAN",
      "userId": "05377676806940715426"
     },
     "user_tz": -330
    },
    "id": "t_RLFJsal1xJ",
    "outputId": "97fb69a4-67e1-4c23-eadf-d7b45c6283d8"
   },
   "outputs": [
    {
     "name": "stderr",
     "output_type": "stream",
     "text": [
      "C:\\Users\\avesk\\anaconda3\\lib\\site-packages\\seaborn\\distributions.py:2619: FutureWarning: `distplot` is a deprecated function and will be removed in a future version. Please adapt your code to use either `displot` (a figure-level function with similar flexibility) or `histplot` (an axes-level function for histograms).\n",
      "  warnings.warn(msg, FutureWarning)\n"
     ]
    },
    {
     "data": {
      "image/png": "[encoded data removed]",
      "text/plain": [
       "<Figure size 1100x600 with 1 Axes>"
      ]
     },
     "metadata": {},
     "output_type": "display_data"
    }
   ],
   "source": [
    "#As we have seen skewness, therefore we can check the distribution using distplot function\n",
    "plt.figure(figsize = (11,6))\n",
    "\n",
    "sns.distplot(data['volatile acidity'], color = 'b')\n",
    "\n",
    "plt.xlabel('Valotile Acidity')\n",
    "plt.ylabel('Density')\n",
    "plt.title('Distplot of Volatile Acidity')\n",
    "\n",
    "plt.show()"
   ]
  },
  {
   "cell_type": "code",
   "execution_count": 15,
   "metadata": {
    "colab": {
     "base_uri": "https://localhost:8080/"
    },
    "executionInfo": {
     "elapsed": 75,
     "status": "ok",
     "timestamp": 1679398199296,
     "user": {
      "displayName": "AVES KHAN",
      "userId": "05377676806940715426"
     },
     "user_tz": -330
    },
    "id": "VHLTEqhCl1uQ",
    "outputId": "fcf0b8b2-a589-4c7c-9a49-6a1a43b8337b"
   },
   "outputs": [
    {
     "data": {
      "text/plain": [
       "1.5769795029952025"
      ]
     },
     "execution_count": 15,
     "metadata": {},
     "output_type": "execute_result"
    }
   ],
   "source": [
    "# Skewness of Volatile Acidity\n",
    "data['volatile acidity'].skew()"
   ]
  },
  {
   "cell_type": "code",
   "execution_count": 16,
   "metadata": {
    "colab": {
     "base_uri": "https://localhost:8080/"
    },
    "executionInfo": {
     "elapsed": 71,
     "status": "ok",
     "timestamp": 1679398199296,
     "user": {
      "displayName": "AVES KHAN",
      "userId": "05377676806940715426"
     },
     "user_tz": -330
    },
    "id": "9PhX7a-ul1sE",
    "outputId": "18b924be-9786-4ee6-841a-22165b9385e2"
   },
   "outputs": [
    {
     "data": {
      "text/plain": [
       "0.27824111882401087"
      ]
     },
     "execution_count": 16,
     "metadata": {},
     "output_type": "execute_result"
    }
   ],
   "source": [
    "# Mean of 'Volatile acidity'\n",
    "data['volatile acidity'].mean()"
   ]
  },
  {
   "cell_type": "code",
   "execution_count": 17,
   "metadata": {
    "colab": {
     "base_uri": "https://localhost:8080/"
    },
    "executionInfo": {
     "elapsed": 69,
     "status": "ok",
     "timestamp": 1679398199298,
     "user": {
      "displayName": "AVES KHAN",
      "userId": "05377676806940715426"
     },
     "user_tz": -330
    },
    "id": "6QCMKgSGl1pV",
    "outputId": "75dfbe8c-2a2b-4615-d9c3-1f8176b798c3"
   },
   "outputs": [
    {
     "data": {
      "text/plain": [
       "0.26"
      ]
     },
     "execution_count": 17,
     "metadata": {},
     "output_type": "execute_result"
    }
   ],
   "source": [
    "# Median of 'Volatile acidity'\n",
    "data['volatile acidity'].median()"
   ]
  },
  {
   "cell_type": "code",
   "execution_count": 18,
   "metadata": {
    "colab": {
     "base_uri": "https://localhost:8080/",
     "height": 404
    },
    "executionInfo": {
     "elapsed": 65,
     "status": "ok",
     "timestamp": 1679398199299,
     "user": {
      "displayName": "AVES KHAN",
      "userId": "05377676806940715426"
     },
     "user_tz": -330
    },
    "id": "So9uCce7l1mv",
    "outputId": "03b2e3b6-9a69-4e56-d477-26f06c551ece"
   },
   "outputs": [
    {
     "data": {
      "image/png": "[encoded data removed]",
      "text/plain": [
       "<Figure size 1100x600 with 1 Axes>"
      ]
     },
     "metadata": {},
     "output_type": "display_data"
    }
   ],
   "source": [
    "# Histogram of 'Volatile acidity' with mean and median\n",
    "\n",
    "plt.figure(figsize = (11,6))\n",
    "\n",
    "sns.histplot(data = data, x = 'volatile acidity', color = 'green', bins = 5)\n",
    "\n",
    "plt.title('Histogram of Volatile Acidity')\n",
    "plt.xlabel('Volatile Acidity')\n",
    "plt.ylabel('Counts')\n",
    "\n",
    "plt.vlines(data['volatile acidity'].mean(), ymin = 0, ymax = 4000, color = 'red', label = 'Mean')\n",
    "plt.vlines(data['volatile acidity'].median(), ymin = 0, ymax = 4000, color = 'blue', label = 'Median')\n",
    "plt.legend()\n",
    "plt.show()"
   ]
  },
  {
   "cell_type": "markdown",
   "metadata": {
    "id": "No0qNc0BqJTl"
   },
   "source": [
    "The mean and the median are close to each other and the difference between them is very small.\n",
    "\n",
    "We can safely choose the mean as the measure of the central tendency here."
   ]
  },
  {
   "cell_type": "code",
   "execution_count": 19,
   "metadata": {
    "colab": {
     "base_uri": "https://localhost:8080/",
     "height": 404
    },
    "executionInfo": {
     "elapsed": 68,
     "status": "ok",
     "timestamp": 1679398199303,
     "user": {
      "displayName": "AVES KHAN",
      "userId": "05377676806940715426"
     },
     "user_tz": -330
    },
    "id": "3oebt3PBl1kX",
    "outputId": "e1160da5-126f-44bc-a0f8-db7c04241e40"
   },
   "outputs": [
    {
     "data": {
      "image/png": "[encoded data removed]",
      "text/plain": [
       "<Figure size 1100x600 with 1 Axes>"
      ]
     },
     "metadata": {},
     "output_type": "display_data"
    }
   ],
   "source": [
    "# Histogram of the \"citric acid\" feature\n",
    "\n",
    "plt.figure(figsize = (11,6))\n",
    "\n",
    "sns.histplot(data=data, x = \"citric acid\", color='pink', bins = 5)\n",
    "\n",
    "\n",
    "plt.title(\"Histogram of Citric Acidity\")                         \n",
    "plt.xlabel('Citric Acidity')                         \n",
    "plt.ylabel('Count')\n",
    "\n",
    "plt.show()\n"
   ]
  },
  {
   "cell_type": "code",
   "execution_count": 20,
   "metadata": {
    "colab": {
     "base_uri": "https://localhost:8080/"
    },
    "executionInfo": {
     "elapsed": 70,
     "status": "ok",
     "timestamp": 1679398199306,
     "user": {
      "displayName": "AVES KHAN",
      "userId": "05377676806940715426"
     },
     "user_tz": -330
    },
    "id": "6Ji04Ckbl1iD",
    "outputId": "21d18938-c109-47af-96e0-7690b53b274d"
   },
   "outputs": [
    {
     "data": {
      "text/plain": [
       "0.33"
      ]
     },
     "execution_count": 20,
     "metadata": {},
     "output_type": "execute_result"
    }
   ],
   "source": [
    "# Mean of Citric Acidity\n",
    "data['citric acid'].mean()\n",
    "round(data['citric acid'].mean(),2)"
   ]
  },
  {
   "cell_type": "code",
   "execution_count": 21,
   "metadata": {
    "colab": {
     "base_uri": "https://localhost:8080/"
    },
    "executionInfo": {
     "elapsed": 69,
     "status": "ok",
     "timestamp": 1679398199308,
     "user": {
      "displayName": "AVES KHAN",
      "userId": "05377676806940715426"
     },
     "user_tz": -330
    },
    "id": "KZ_m2qFVl1fb",
    "outputId": "f4debf34-457e-471c-daa8-833a89459851"
   },
   "outputs": [
    {
     "data": {
      "text/plain": [
       "0.32"
      ]
     },
     "execution_count": 21,
     "metadata": {},
     "output_type": "execute_result"
    }
   ],
   "source": [
    "#Median of Citric Acidity\n",
    "data['citric acid'].median()"
   ]
  },
  {
   "cell_type": "code",
   "execution_count": 22,
   "metadata": {
    "colab": {
     "base_uri": "https://localhost:8080/",
     "height": 404
    },
    "executionInfo": {
     "elapsed": 66,
     "status": "ok",
     "timestamp": 1679398199309,
     "user": {
      "displayName": "AVES KHAN",
      "userId": "05377676806940715426"
     },
     "user_tz": -330
    },
    "id": "dVyWmhaYl1dO",
    "outputId": "5190abe4-bcaa-4522-9e07-0e73d699e96b"
   },
   "outputs": [
    {
     "data": {
      "image/png": "[encoded data removed]",
      "text/plain": [
       "<Figure size 1100x600 with 1 Axes>"
      ]
     },
     "metadata": {},
     "output_type": "display_data"
    }
   ],
   "source": [
    "# Histogram of the \"citric acid\" with Mean and Median\n",
    "\n",
    "plt.figure(figsize = (11,6))\n",
    "\n",
    "sns.histplot(data=data, x = \"citric acid\", color='pink', bins = 5)\n",
    "\n",
    "plt.title(\"Histogram of Citric Acidity\")                         \n",
    "plt.xlabel('Citric Acidity')                         \n",
    "plt.ylabel('Count')\n",
    "\n",
    "plt.vlines(data['citric acid'].mean(), ymin=0, ymax=4000, color='r', label= 'Mean')\n",
    "plt.vlines(data['citric acid'].median(), ymin= 0, ymax=4000, color='b', label = 'Median')\n",
    "\n",
    "plt.show()\n"
   ]
  },
  {
   "cell_type": "markdown",
   "metadata": {
    "id": "DKpfkPncuFhB"
   },
   "source": [
    "The mean and the median are close to each other and the difference between them is very small.\n",
    "\n",
    "We can safely choose the mean as the measure of the central tendency here."
   ]
  },
  {
   "cell_type": "code",
   "execution_count": null,
   "metadata": {
    "executionInfo": {
     "elapsed": 66,
     "status": "ok",
     "timestamp": 1679398199310,
     "user": {
      "displayName": "AVES KHAN",
      "userId": "05377676806940715426"
     },
     "user_tz": -330
    },
    "id": "BW_rZpbal1au"
   },
   "outputs": [],
   "source": []
  },
  {
   "cell_type": "code",
   "execution_count": 23,
   "metadata": {
    "colab": {
     "base_uri": "https://localhost:8080/",
     "height": 595
    },
    "executionInfo": {
     "elapsed": 68,
     "status": "ok",
     "timestamp": 1679398199312,
     "user": {
      "displayName": "AVES KHAN",
      "userId": "05377676806940715426"
     },
     "user_tz": -330
    },
    "id": "6DKuW4vVl1YG",
    "outputId": "b57039c0-956a-4d33-8219-cfcb1bed1439"
   },
   "outputs": [
    {
     "name": "stderr",
     "output_type": "stream",
     "text": [
      "C:\\Users\\avesk\\anaconda3\\lib\\site-packages\\seaborn\\distributions.py:2619: FutureWarning: `distplot` is a deprecated function and will be removed in a future version. Please adapt your code to use either `displot` (a figure-level function with similar flexibility) or `histplot` (an axes-level function for histograms).\n",
      "  warnings.warn(msg, FutureWarning)\n"
     ]
    },
    {
     "data": {
      "image/png": "[encoded data removed]",
      "text/plain": [
       "<Figure size 1100x600 with 1 Axes>"
      ]
     },
     "metadata": {},
     "output_type": "display_data"
    }
   ],
   "source": [
    "# Calculate distplot using 'Citric Acidity' feature\n",
    "\n",
    "plt.figure(figsize = (11,6))\n",
    "\n",
    "sns.distplot(data['citric acid'], color = 'blue')\n",
    "\n",
    "plt.title(\"Distplot of Citric Acid\")                         \n",
    "plt.xlabel('Citric Acid')                         \n",
    "plt.ylabel('Density')\n",
    "plt.show()"
   ]
  },
  {
   "cell_type": "code",
   "execution_count": 24,
   "metadata": {
    "colab": {
     "base_uri": "https://localhost:8080/",
     "height": 404
    },
    "executionInfo": {
     "elapsed": 1661,
     "status": "ok",
     "timestamp": 1679398614884,
     "user": {
      "displayName": "AVES KHAN",
      "userId": "05377676806940715426"
     },
     "user_tz": -330
    },
    "id": "Q-z7yF3Bl1Vx",
    "outputId": "28eacc56-c382-4703-a1e3-a83e126bb363"
   },
   "outputs": [
    {
     "data": {
      "image/png": "[encoded data removed]",
      "text/plain": [
       "<Figure size 1100x600 with 1 Axes>"
      ]
     },
     "metadata": {},
     "output_type": "display_data"
    }
   ],
   "source": [
    "# Create a count plot of the \"Quality\" feature\n",
    "\n",
    "plt.figure(figsize = (11,6))\n",
    "\n",
    "sns.countplot(x=data['quality'])\n",
    "\n",
    "plt.title(\"Count Plot of Quality\")                         \n",
    "plt.xlabel('Quality')                         \n",
    "plt.ylabel('Count')\n",
    "\n",
    "plt.show()"
   ]
  },
  {
   "cell_type": "code",
   "execution_count": 25,
   "metadata": {
    "colab": {
     "base_uri": "https://localhost:8080/"
    },
    "executionInfo": {
     "elapsed": 64,
     "status": "ok",
     "timestamp": 1679398199315,
     "user": {
      "displayName": "AVES KHAN",
      "userId": "05377676806940715426"
     },
     "user_tz": -330
    },
    "id": "ZWA9mkPnl1TV",
    "outputId": "c99fb702-4edb-4a28-d778-c9b7ccb62950"
   },
   "outputs": [
    {
     "data": {
      "text/plain": [
       "6    2198\n",
       "5    1457\n",
       "7     880\n",
       "8     175\n",
       "4     163\n",
       "3      20\n",
       "9       5\n",
       "Name: quality, dtype: int64"
      ]
     },
     "execution_count": 25,
     "metadata": {},
     "output_type": "execute_result"
    }
   ],
   "source": [
    "data['quality'].value_counts()"
   ]
  },
  {
   "cell_type": "code",
   "execution_count": 26,
   "metadata": {
    "colab": {
     "base_uri": "https://localhost:8080/"
    },
    "executionInfo": {
     "elapsed": 569,
     "status": "ok",
     "timestamp": 1679399522648,
     "user": {
      "displayName": "AVES KHAN",
      "userId": "05377676806940715426"
     },
     "user_tz": -330
    },
    "id": "vqVheW6vl1Qv",
    "outputId": "0bbec1da-b4ce-4704-a5ee-0b0c634db386"
   },
   "outputs": [
    {
     "data": {
      "text/plain": [
       "6"
      ]
     },
     "execution_count": 26,
     "metadata": {},
     "output_type": "execute_result"
    }
   ],
   "source": [
    "# Calculate the mode of the \"quality\" feature\n",
    "\n",
    "data['quality'].value_counts().index[0]"
   ]
  },
  {
   "cell_type": "markdown",
   "metadata": {
    "id": "MLAw4-cdEm6g"
   },
   "source": [
    "\n",
    "**Observations from Task 2**\n",
    "\n",
    "We saw the distributions of the various features in the data set using appropriate plots\n",
    "\n",
    "We calculated central tendency measures like mean, median and mode for the various features\n",
    "\n",
    "The mean and the median for all the above features were similar, so we can choose the mean in these cases\n",
    "\n",
    "The mode of the \"Quality\" feature can be chosen as a representative value"
   ]
  },
  {
   "cell_type": "code",
   "execution_count": null,
   "metadata": {
    "id": "wiW2rkvjHGiX"
   },
   "outputs": [],
   "source": []
  },
  {
   "cell_type": "markdown",
   "metadata": {
    "id": "dFA6TpCDEyHv"
   },
   "source": [
    "# **Task 3** - Create a new Pandas Series that contains the details of the acid types for a quality\n",
    "\n",
    "We will now create a Pandas Series that contains the representative values for each of the features"
   ]
  },
  {
   "cell_type": "code",
   "execution_count": 27,
   "metadata": {
    "executionInfo": {
     "elapsed": 434,
     "status": "ok",
     "timestamp": 1679400614371,
     "user": {
      "displayName": "AVES KHAN",
      "userId": "05377676806940715426"
     },
     "user_tz": -330
    },
    "id": "iRiDJdJtl1OJ"
   },
   "outputs": [],
   "source": [
    "# Create a new Pandas Series called \"rep_acid\" that contains the details of the representative quality for the different types of acids\n",
    "\n",
    "rep_acid = pd.Series(index = ['fixed acidity','volatile acidity','citric acid','quality'],\n",
    "                     data = [data['fixed acidity'].mean(),data['volatile acidity'].mean(),\n",
    "                             data['citric acid'].mean(),data['quality'].value_counts().index[0]])"
   ]
  },
  {
   "cell_type": "code",
   "execution_count": 28,
   "metadata": {
    "colab": {
     "base_uri": "https://localhost:8080/"
    },
    "executionInfo": {
     "elapsed": 1122,
     "status": "ok",
     "timestamp": 1679400622956,
     "user": {
      "displayName": "AVES KHAN",
      "userId": "05377676806940715426"
     },
     "user_tz": -330
    },
    "id": "iElNH-FVl1Lq",
    "outputId": "259483fa-5aad-462a-d4dc-bd77c6ce9ce7"
   },
   "outputs": [
    {
     "data": {
      "text/plain": [
       "fixed acidity       6.854788\n",
       "volatile acidity    0.278241\n",
       "citric acid         0.334192\n",
       "quality             6.000000\n",
       "dtype: float64"
      ]
     },
     "execution_count": 28,
     "metadata": {},
     "output_type": "execute_result"
    }
   ],
   "source": [
    "rep_acid"
   ]
  },
  {
   "cell_type": "markdown",
   "metadata": {
    "id": "OqcHC9x7HBqF"
   },
   "source": [
    "**Observations from Task 3**\n",
    "\n",
    "1. The representative acid for the quality is as follows:\n",
    "\n",
    "2. The mean value of the fixed acidity would be 6.854\n",
    "\n",
    "3. The mean value of the volatile acidity would be 0.2782\n",
    "\n",
    "4. The mean value of citric acid would be 0.3341\n",
    "\n",
    "5. The quality would be 6"
   ]
  },
  {
   "cell_type": "markdown",
   "metadata": {
    "executionInfo": {
     "elapsed": 67,
     "status": "ok",
     "timestamp": 1679398199843,
     "user": {
      "displayName": "AVES KHAN",
      "userId": "05377676806940715426"
     },
     "user_tz": -330
    },
    "id": "rnKyJaKVl1JD"
   },
   "source": [
    "**Final Conclusions**:\n",
    "\n",
    "From the given data, we can use simple visualisations to get a sense of how data are distributed.\n",
    "\n",
    "We can use various measures of central tendency such as mean, median and mode to represent a group of observations.\n",
    "\n",
    "The type of central tendency measure to use depends on the type and the distribution of the data"
   ]
  },
  {
   "cell_type": "code",
   "execution_count": null,
   "metadata": {
    "executionInfo": {
     "elapsed": 66,
     "status": "ok",
     "timestamp": 1679398199843,
     "user": {
      "displayName": "AVES KHAN",
      "userId": "05377676806940715426"
     },
     "user_tz": -330
    },
    "id": "3qVGkuI6l1Gu"
   },
   "outputs": [],
   "source": []
  },
  {
   "cell_type": "code",
   "execution_count": null,
   "metadata": {
    "executionInfo": {
     "elapsed": 67,
     "status": "ok",
     "timestamp": 1679398199844,
     "user": {
      "displayName": "AVES KHAN",
      "userId": "05377676806940715426"
     },
     "user_tz": -330
    },
    "id": "5XXlcwBDl09v"
   },
   "outputs": [],
   "source": []
  },
  {
   "cell_type": "code",
   "execution_count": null,
   "metadata": {
    "executionInfo": {
     "elapsed": 68,
     "status": "ok",
     "timestamp": 1679398199845,
     "user": {
      "displayName": "AVES KHAN",
      "userId": "05377676806940715426"
     },
     "user_tz": -330
    },
    "id": "R_qQa8WylztW"
   },
   "outputs": [],
   "source": []
  },
  {
   "cell_type": "code",
   "execution_count": null,
   "metadata": {
    "executionInfo": {
     "elapsed": 68,
     "status": "ok",
     "timestamp": 1679398199846,
     "user": {
      "displayName": "AVES KHAN",
      "userId": "05377676806940715426"
     },
     "user_tz": -330
    },
    "id": "WE-IPLBFlzqG"
   },
   "outputs": [],
   "source": []
  },
  {
   "cell_type": "code",
   "execution_count": null,
   "metadata": {
    "executionInfo": {
     "elapsed": 70,
     "status": "ok",
     "timestamp": 1679398199848,
     "user": {
      "displayName": "AVES KHAN",
      "userId": "05377676806940715426"
     },
     "user_tz": -330
    },
    "id": "gWug9dLzlzl6"
   },
   "outputs": [],
   "source": []
  },
  {
   "cell_type": "code",
   "execution_count": null,
   "metadata": {
    "executionInfo": {
     "elapsed": 70,
     "status": "ok",
     "timestamp": 1679398199849,
     "user": {
      "displayName": "AVES KHAN",
      "userId": "05377676806940715426"
     },
     "user_tz": -330
    },
    "id": "ZenPDrjSlzj3"
   },
   "outputs": [],
   "source": []
  },
  {
   "cell_type": "code",
   "execution_count": null,
   "metadata": {
    "executionInfo": {
     "elapsed": 69,
     "status": "ok",
     "timestamp": 1679398199850,
     "user": {
      "displayName": "AVES KHAN",
      "userId": "05377676806940715426"
     },
     "user_tz": -330
    },
    "id": "fA1h4KwZlzhY"
   },
   "outputs": [],
   "source": []
  },
  {
   "cell_type": "code",
   "execution_count": null,
   "metadata": {
    "executionInfo": {
     "elapsed": 69,
     "status": "ok",
     "timestamp": 1679398199851,
     "user": {
      "displayName": "AVES KHAN",
      "userId": "05377676806940715426"
     },
     "user_tz": -330
    },
    "id": "sMV53vhAlze8"
   },
   "outputs": [],
   "source": []
  },
  {
   "cell_type": "code",
   "execution_count": null,
   "metadata": {
    "executionInfo": {
     "elapsed": 68,
     "status": "ok",
     "timestamp": 1679398199851,
     "user": {
      "displayName": "AVES KHAN",
      "userId": "05377676806940715426"
     },
     "user_tz": -330
    },
    "id": "gh0AKyhXlzc1"
   },
   "outputs": [],
   "source": []
  },
  {
   "cell_type": "code",
   "execution_count": null,
   "metadata": {
    "executionInfo": {
     "elapsed": 69,
     "status": "ok",
     "timestamp": 1679398199852,
     "user": {
      "displayName": "AVES KHAN",
      "userId": "05377676806940715426"
     },
     "user_tz": -330
    },
    "id": "amIkEXr2lzaL"
   },
   "outputs": [],
   "source": []
  },
  {
   "cell_type": "code",
   "execution_count": null,
   "metadata": {
    "executionInfo": {
     "elapsed": 69,
     "status": "ok",
     "timestamp": 1679398199853,
     "user": {
      "displayName": "AVES KHAN",
      "userId": "05377676806940715426"
     },
     "user_tz": -330
    },
    "id": "XVJufo8ClzXc"
   },
   "outputs": [],
   "source": []
  },
  {
   "cell_type": "code",
   "execution_count": null,
   "metadata": {
    "executionInfo": {
     "elapsed": 69,
     "status": "ok",
     "timestamp": 1679398199853,
     "user": {
      "displayName": "AVES KHAN",
      "userId": "05377676806940715426"
     },
     "user_tz": -330
    },
    "id": "S7_TP8gZlzUe"
   },
   "outputs": [],
   "source": []
  },
  {
   "cell_type": "code",
   "execution_count": null,
   "metadata": {
    "executionInfo": {
     "elapsed": 70,
     "status": "ok",
     "timestamp": 1679398199854,
     "user": {
      "displayName": "AVES KHAN",
      "userId": "05377676806940715426"
     },
     "user_tz": -330
    },
    "id": "a4ao8LYElzSH"
   },
   "outputs": [],
   "source": []
  },
  {
   "cell_type": "code",
   "execution_count": null,
   "metadata": {
    "executionInfo": {
     "elapsed": 69,
     "status": "ok",
     "timestamp": 1679398199854,
     "user": {
      "displayName": "AVES KHAN",
      "userId": "05377676806940715426"
     },
     "user_tz": -330
    },
    "id": "i8G2WgWElxLp"
   },
   "outputs": [],
   "source": []
  },
  {
   "cell_type": "code",
   "execution_count": null,
   "metadata": {
    "executionInfo": {
     "elapsed": 70,
     "status": "ok",
     "timestamp": 1679398199855,
     "user": {
      "displayName": "AVES KHAN",
      "userId": "05377676806940715426"
     },
     "user_tz": -330
    },
    "id": "T-P5eDSulxbk"
   },
   "outputs": [],
   "source": []
  },
  {
   "cell_type": "code",
   "execution_count": null,
   "metadata": {
    "executionInfo": {
     "elapsed": 70,
     "status": "ok",
     "timestamp": 1679398199856,
     "user": {
      "displayName": "AVES KHAN",
      "userId": "05377676806940715426"
     },
     "user_tz": -330
    },
    "id": "hOsovVlWlxeZ"
   },
   "outputs": [],
   "source": []
  },
  {
   "cell_type": "code",
   "execution_count": null,
   "metadata": {
    "executionInfo": {
     "elapsed": 71,
     "status": "ok",
     "timestamp": 1679398199856,
     "user": {
      "displayName": "AVES KHAN",
      "userId": "05377676806940715426"
     },
     "user_tz": -330
    },
    "id": "nEseI2fylxgq"
   },
   "outputs": [],
   "source": []
  },
  {
   "cell_type": "code",
   "execution_count": null,
   "metadata": {
    "executionInfo": {
     "elapsed": 71,
     "status": "ok",
     "timestamp": 1679398199858,
     "user": {
      "displayName": "AVES KHAN",
      "userId": "05377676806940715426"
     },
     "user_tz": -330
    },
    "id": "UhIpKw7rlxlP"
   },
   "outputs": [],
   "source": []
  },
  {
   "cell_type": "code",
   "execution_count": null,
   "metadata": {
    "executionInfo": {
     "elapsed": 71,
     "status": "ok",
     "timestamp": 1679398199859,
     "user": {
      "displayName": "AVES KHAN",
      "userId": "05377676806940715426"
     },
     "user_tz": -330
    },
    "id": "xInto4-9lxzm"
   },
   "outputs": [],
   "source": []
  },
  {
   "cell_type": "code",
   "execution_count": null,
   "metadata": {
    "executionInfo": {
     "elapsed": 71,
     "status": "ok",
     "timestamp": 1679398199859,
     "user": {
      "displayName": "AVES KHAN",
      "userId": "05377676806940715426"
     },
     "user_tz": -330
    },
    "id": "QstHt43Dlx6-"
   },
   "outputs": [],
   "source": []
  },
  {
   "cell_type": "code",
   "execution_count": null,
   "metadata": {
    "executionInfo": {
     "elapsed": 72,
     "status": "ok",
     "timestamp": 1679398199860,
     "user": {
      "displayName": "AVES KHAN",
      "userId": "05377676806940715426"
     },
     "user_tz": -330
    },
    "id": "bsaU9F8Qlx9j"
   },
   "outputs": [],
   "source": []
  },
  {
   "cell_type": "code",
   "execution_count": null,
   "metadata": {
    "executionInfo": {
     "elapsed": 71,
     "status": "ok",
     "timestamp": 1679398199860,
     "user": {
      "displayName": "AVES KHAN",
      "userId": "05377676806940715426"
     },
     "user_tz": -330
    },
    "id": "uGSwwZ9ylyCo"
   },
   "outputs": [],
   "source": []
  },
  {
   "cell_type": "code",
   "execution_count": null,
   "metadata": {
    "executionInfo": {
     "elapsed": 71,
     "status": "ok",
     "timestamp": 1679398199861,
     "user": {
      "displayName": "AVES KHAN",
      "userId": "05377676806940715426"
     },
     "user_tz": -330
    },
    "id": "wMjcJuCTlyUz"
   },
   "outputs": [],
   "source": []
  },
  {
   "cell_type": "code",
   "execution_count": null,
   "metadata": {
    "executionInfo": {
     "elapsed": 71,
     "status": "ok",
     "timestamp": 1679398199861,
     "user": {
      "displayName": "AVES KHAN",
      "userId": "05377676806940715426"
     },
     "user_tz": -330
    },
    "id": "rKwGrJHNlyaA"
   },
   "outputs": [],
   "source": []
  },
  {
   "cell_type": "code",
   "execution_count": null,
   "metadata": {
    "executionInfo": {
     "elapsed": 71,
     "status": "ok",
     "timestamp": 1679398199862,
     "user": {
      "displayName": "AVES KHAN",
      "userId": "05377676806940715426"
     },
     "user_tz": -330
    },
    "id": "2XaIAkJ9lydX"
   },
   "outputs": [],
   "source": []
  }
 ],
 "metadata": {
  "colab": {
   "authorship_tag": "ABX9TyOyQG4+9Hxru+nggmb72Vxh",
   "provenance": []
  },
  "kernelspec": {
   "display_name": "Python 3 (ipykernel)",
   "language": "python",
   "name": "python3"
  },
  "language_info": {
   "codemirror_mode": {
    "name": "ipython",
    "version": 3
   },
   "file_extension": ".py",
   "mimetype": "text/x-python",
   "name": "python",
   "nbconvert_exporter": "python",
   "pygments_lexer": "ipython3",
   "version": "3.9.13"
  }
 },
 "nbformat": 4,
 "nbformat_minor": 1
}
